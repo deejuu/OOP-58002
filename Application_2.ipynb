{
  "nbformat": 4,
  "nbformat_minor": 0,
  "metadata": {
    "colab": {
      "name": "Application 2.ipynb",
      "provenance": [],
      "authorship_tag": "ABX9TyMBqr7HaiskqIOrInepRAoI",
      "include_colab_link": true
    },
    "kernelspec": {
      "name": "python3",
      "display_name": "Python 3"
    },
    "language_info": {
      "name": "python"
    }
  },
  "cells": [
    {
      "cell_type": "markdown",
      "metadata": {
        "id": "view-in-github",
        "colab_type": "text"
      },
      "source": [
        "<a href=\"https://colab.research.google.com/github/deejuu/OOP-58002/blob/main/Application_2.ipynb\" target=\"_parent\"><img src=\"https://colab.research.google.com/assets/colab-badge.svg\" alt=\"Open In Colab\"/></a>"
      ]
    },
    {
      "cell_type": "markdown",
      "source": [
        "Writte a python program that display your student no. and full name and create a class name OOP_58002"
      ],
      "metadata": {
        "id": "hoNDr8f6UC5w"
      }
    },
    {
      "cell_type": "code",
      "execution_count": 9,
      "metadata": {
        "colab": {
          "base_uri": "https://localhost:8080/"
        },
        "id": "d79dJmq3T9oJ",
        "outputId": "3e716164-aa82-4135-ea58-7e9a05c8c478"
      },
      "outputs": [
        {
          "output_type": "stream",
          "name": "stdout",
          "text": [
            "My student number is 202117984\n",
            "My name is Tolentino, Daniel Jethro L.\n"
          ]
        }
      ],
      "source": [
        "class OOP_58002:\n",
        "  def __init__(self,name,number):\n",
        "    self.name = name\n",
        "    self.number = number\n",
        "  def myFunction(self):\n",
        "    print(\"My student number is\",self.number)\n",
        "    print(\"My name is\",self.name)\n",
        "    \n",
        "OOP_580021= OOP_58002(\"Tolentino, Daniel Jethro L.\",202117984)\n",
        "OOP_580021.myFunction()"
      ]
    }
  ]
}