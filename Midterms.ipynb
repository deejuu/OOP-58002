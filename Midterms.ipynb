{
  "nbformat": 4,
  "nbformat_minor": 0,
  "metadata": {
    "colab": {
      "name": "Midterms.ipynb",
      "provenance": [],
      "collapsed_sections": [],
      "authorship_tag": "ABX9TyNzTqkAmfxpTiBQ+KTkTiAU",
      "include_colab_link": true
    },
    "kernelspec": {
      "name": "python3",
      "display_name": "Python 3"
    },
    "language_info": {
      "name": "python"
    }
  },
  "cells": [
    {
      "cell_type": "markdown",
      "metadata": {
        "id": "view-in-github",
        "colab_type": "text"
      },
      "source": [
        "<a href=\"https://colab.research.google.com/github/deejuu/OOP-58002/blob/main/Midterms.ipynb\" target=\"_parent\"><img src=\"https://colab.research.google.com/assets/colab-badge.svg\" alt=\"Open In Colab\"/></a>"
      ]
    },
    {
      "cell_type": "markdown",
      "source": [
        "PROGRAM 1"
      ],
      "metadata": {
        "id": "Z_K3ddXuX2gd"
      }
    },
    {
      "cell_type": "code",
      "execution_count": 4,
      "metadata": {
        "colab": {
          "base_uri": "https://localhost:8080/"
        },
        "id": "SsvTOef7XyNh",
        "outputId": "52deb05e-9fdf-4891-d1b2-642093db6a18"
      },
      "outputs": [
        {
          "output_type": "stream",
          "name": "stdout",
          "text": [
            "Enter the temperature in Celsius: 23\n",
            "296.15 Kelvin\n",
            "73.4 Fahrenheit\n",
            "Enter the temperature in Farenheit: 250\n",
            "121.11111111111111 Celsius\n",
            "Enter the temperature in Kelvin: 69420\n",
            "69146.85 Celsius\n"
          ]
        }
      ],
      "source": [
        "def main():\n",
        "\n",
        "  \n",
        "\n",
        " class TemperatureConversion:\n",
        "  def __init__(self, temp=1):\n",
        "   self._temp = temp\n",
        "\n",
        " class CelsiusToFahrenheit(TemperatureConversion):\n",
        "  def conversion(self):\n",
        "   return (self._temp * 9) / 5 + 32\n",
        "\n",
        " class CelsiusToKelvin(TemperatureConversion):\n",
        "  def conversion(self):\n",
        "   return self._temp + 273.15\n",
        "\n",
        " class FahrenheitToCelsius(TemperatureConversion):\n",
        "  def conversion(self):\n",
        "   return (self._temp - 32) * 5 / 9\n",
        "\n",
        " class KelvinToCelsius(TemperatureConversion):\n",
        "  def conversion(self):\n",
        "   return (self._temp - 273.15) \n",
        "\n",
        " tempInCelsius = float(input(\"Enter the temperature in Celsius: \"))\n",
        " convert = CelsiusToKelvin(tempInCelsius)\n",
        " print(str(convert.conversion()) + \" Kelvin\")\n",
        " convert = CelsiusToFahrenheit(tempInCelsius)\n",
        " print(str(convert.conversion()) + \" Fahrenheit\")\n",
        " tempInCelsius = float(input(\"Enter the temperature in Farenheit: \"))\n",
        " convert = FahrenheitToCelsius(tempInCelsius)\n",
        " print(str(convert.conversion()) + \" Celsius\")\n",
        " tempInCelsius = float(input(\"Enter the temperature in Kelvin: \"))\n",
        " convert = KelvinToCelsius(tempInCelsius)\n",
        " print(str(convert.conversion()) + \" Celsius\")\n",
        "\n",
        "main()"
      ]
    }
  ]
}