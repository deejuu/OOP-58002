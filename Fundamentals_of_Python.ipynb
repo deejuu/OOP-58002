{
  "nbformat": 4,
  "nbformat_minor": 0,
  "metadata": {
    "colab": {
      "name": "Fundamentals of Python.ipynb",
      "provenance": [],
      "collapsed_sections": [],
      "authorship_tag": "ABX9TyP8AgibKl19Hd+veh2Z04Rs",
      "include_colab_link": true
    },
    "kernelspec": {
      "name": "python3",
      "display_name": "Python 3"
    },
    "language_info": {
      "name": "python"
    }
  },
  "cells": [
    {
      "cell_type": "markdown",
      "metadata": {
        "id": "view-in-github",
        "colab_type": "text"
      },
      "source": [
        "<a href=\"https://colab.research.google.com/github/deejuu/OOP-58002/blob/main/Fundamentals_of_Python.ipynb\" target=\"_parent\"><img src=\"https://colab.research.google.com/assets/colab-badge.svg\" alt=\"Open In Colab\"/></a>"
      ]
    },
    {
      "cell_type": "markdown",
      "source": [
        "python variables"
      ],
      "metadata": {
        "id": "VwRweBo4QRXr"
      }
    },
    {
      "cell_type": "code",
      "source": [
        "x = float(1) \n",
        "a, b = 0, -1\n",
        "a, b, c = \"D\", \"Jong\", \"12\"\n",
        "\n",
        "print('JOng Hilario')\n",
        "print(a)\n",
        "print(c)"
      ],
      "metadata": {
        "colab": {
          "base_uri": "https://localhost:8080/"
        },
        "id": "a85DGg1sPqj8",
        "outputId": "e5be8b14-85e1-4292-8e88-3ef7718219b4"
      },
      "execution_count": null,
      "outputs": [
        {
          "output_type": "stream",
          "name": "stdout",
          "text": [
            "JOng Hilario\n",
            "D\n",
            "12\n"
          ]
        }
      ]
    },
    {
      "cell_type": "markdown",
      "source": [
        "type() Function"
      ],
      "metadata": {
        "id": "QhCzNpKXQV5j"
      }
    },
    {
      "cell_type": "code",
      "source": [
        "y = \"Maangas\"\n",
        "\n",
        "print(type(y))\n",
        "print(type(x))"
      ],
      "metadata": {
        "colab": {
          "base_uri": "https://localhost:8080/"
        },
        "id": "mtrDI9gzPszK",
        "outputId": "d32215df-2689-4f5b-883b-df9108ddabf6"
      },
      "execution_count": null,
      "outputs": [
        {
          "output_type": "stream",
          "name": "stdout",
          "text": [
            "<class 'str'>\n",
            "<class 'float'>\n"
          ]
        }
      ]
    },
    {
      "cell_type": "markdown",
      "source": [
        "multiple variables"
      ],
      "metadata": {
        "id": "MGVtxT6eQa_5"
      }
    },
    {
      "cell_type": "code",
      "source": [
        "x,y,z=\"up\", \"right\", \"left\"\n",
        "print(x)\n",
        "print(y)\n",
        "print(z)\n",
        "print(x,y,z)"
      ],
      "metadata": {
        "colab": {
          "base_uri": "https://localhost:8080/"
        },
        "id": "dZC66Y2XP14x",
        "outputId": "d45b0abd-824f-4128-e4d9-64555f2ac29d"
      },
      "execution_count": null,
      "outputs": [
        {
          "output_type": "stream",
          "name": "stdout",
          "text": [
            "up\n",
            "right\n",
            "left\n",
            "up right left\n"
          ]
        }
      ]
    },
    {
      "cell_type": "markdown",
      "source": [
        "one value to multiple variables"
      ],
      "metadata": {
        "id": "LjeBgMRcQeM_"
      }
    },
    {
      "cell_type": "code",
      "source": [
        "x = y = z =\"jean\"\n",
        "print(x,y,z)"
      ],
      "metadata": {
        "colab": {
          "base_uri": "https://localhost:8080/"
        },
        "id": "dN_TpdeAP7DX",
        "outputId": "2c1e35a9-7ac2-4cda-c1ea-1497e55971d7"
      },
      "execution_count": null,
      "outputs": [
        {
          "output_type": "stream",
          "name": "stdout",
          "text": [
            "jean jean jean\n"
          ]
        }
      ]
    },
    {
      "cell_type": "markdown",
      "source": [
        "output variables"
      ],
      "metadata": {
        "id": "9N-riu4pQhnT"
      }
    },
    {
      "cell_type": "code",
      "source": [
        "x= \"running\"\n",
        "\n",
        "print(\"I am \" + x)\n",
        "\n",
        "x = \"for\"\n",
        "y = \"president\"\n",
        "\n",
        "print(x+\"\"+\" \"+y)"
      ],
      "metadata": {
        "colab": {
          "base_uri": "https://localhost:8080/"
        },
        "id": "KlXWQqZNP9Cm",
        "outputId": "f59af282-5914-47eb-85fd-628bcf13a38b"
      },
      "execution_count": null,
      "outputs": [
        {
          "output_type": "stream",
          "name": "stdout",
          "text": [
            "I am running\n",
            "for president\n"
          ]
        }
      ]
    },
    {
      "cell_type": "markdown",
      "source": [
        "Arithmetic Operations"
      ],
      "metadata": {
        "id": "h6p5ofOUQGeK"
      }
    },
    {
      "cell_type": "code",
      "source": [
        "f = 69\n",
        "g = 420\n",
        "i = 1337\n",
        "\n",
        "print(f+g)\n",
        "print(f-g)\n",
        "print(f*i)\n",
        "print(int(i/g))\n",
        "print(3/g)\n",
        "print(3%g)\n",
        "print(3//g)\n",
        "print(3**6)"
      ],
      "metadata": {
        "colab": {
          "base_uri": "https://localhost:8080/"
        },
        "id": "xcMcUWzqP_Xa",
        "outputId": "2c57631d-82c5-4bf7-933c-ce6ed1870d2d"
      },
      "execution_count": null,
      "outputs": [
        {
          "output_type": "stream",
          "name": "stdout",
          "text": [
            "489\n",
            "-351\n",
            "92253\n",
            "3\n",
            "0.007142857142857143\n",
            "3\n",
            "0\n",
            "729\n"
          ]
        }
      ]
    },
    {
      "cell_type": "markdown",
      "source": [
        "Assignment Operators"
      ],
      "metadata": {
        "id": "AHr4TY6zQIsz"
      }
    },
    {
      "cell_type": "code",
      "source": [
        "k = 2\n",
        "l=3\n",
        "k+=3\n",
        "\n",
        "print(k)\n",
        "\n",
        "print(l>>1)"
      ],
      "metadata": {
        "colab": {
          "base_uri": "https://localhost:8080/"
        },
        "id": "06o0hwOPQKq0",
        "outputId": "1594b144-7cd4-47eb-fd3c-2a88a602020f"
      },
      "execution_count": null,
      "outputs": [
        {
          "output_type": "stream",
          "name": "stdout",
          "text": [
            "5\n",
            "1\n"
          ]
        }
      ]
    },
    {
      "cell_type": "markdown",
      "source": [
        "boolean operation"
      ],
      "metadata": {
        "id": "XZWS5WUZQkmR"
      }
    },
    {
      "cell_type": "code",
      "source": [
        "k=4\n",
        "l=3\n",
        "print(k>>2)\n",
        "print(k<<2)"
      ],
      "metadata": {
        "colab": {
          "base_uri": "https://localhost:8080/"
        },
        "id": "BUnCW8lJQoR3",
        "outputId": "8dd187ad-dc53-4277-b9a2-3651af60beb2"
      },
      "execution_count": null,
      "outputs": [
        {
          "output_type": "stream",
          "name": "stdout",
          "text": [
            "1\n",
            "16\n"
          ]
        }
      ]
    },
    {
      "cell_type": "markdown",
      "source": [
        "relational operation"
      ],
      "metadata": {
        "id": "Hys2-UDoQq6Q"
      }
    },
    {
      "cell_type": "code",
      "source": [
        "v=1\n",
        "k=2\n",
        "print(v>k)\n",
        "\n",
        "print(v==k)"
      ],
      "metadata": {
        "colab": {
          "base_uri": "https://localhost:8080/"
        },
        "id": "-54u8vLWQs9y",
        "outputId": "b143d03c-964f-40a1-d714-9ae17c1fba2a"
      },
      "execution_count": null,
      "outputs": [
        {
          "output_type": "stream",
          "name": "stdout",
          "text": [
            "False\n",
            "False\n"
          ]
        }
      ]
    },
    {
      "cell_type": "markdown",
      "source": [
        "logical operation"
      ],
      "metadata": {
        "id": "oxntdDfURBxf"
      }
    },
    {
      "cell_type": "code",
      "source": [
        "v=6\n",
        "k=9\n",
        "print(v<k and k==k)\n",
        "print(v<k or k==v)\n",
        "print(not (v<k or k==v))"
      ],
      "metadata": {
        "colab": {
          "base_uri": "https://localhost:8080/"
        },
        "id": "cKIPty9bREVA",
        "outputId": "a1de56f1-75a9-416d-ddf3-8c9ffbf4d0e6"
      },
      "execution_count": null,
      "outputs": [
        {
          "output_type": "stream",
          "name": "stdout",
          "text": [
            "True\n",
            "True\n",
            "False\n"
          ]
        }
      ]
    },
    {
      "cell_type": "markdown",
      "source": [
        "identity operation"
      ],
      "metadata": {
        "id": "7QGw3YyiRKy0"
      }
    },
    {
      "cell_type": "code",
      "source": [
        "print(v is k)\n",
        "print(v is not k)"
      ],
      "metadata": {
        "colab": {
          "base_uri": "https://localhost:8080/"
        },
        "id": "cpMG5C0vRKNi",
        "outputId": "e3bf3035-9ffb-4c09-a87c-ff72ccb3efd2"
      },
      "execution_count": null,
      "outputs": [
        {
          "output_type": "stream",
          "name": "stdout",
          "text": [
            "False\n",
            "True\n"
          ]
        }
      ]
    }
  ]
}