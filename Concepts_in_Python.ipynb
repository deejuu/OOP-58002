{
  "nbformat": 4,
  "nbformat_minor": 0,
  "metadata": {
    "colab": {
      "name": "Concepts in Python.ipynb",
      "provenance": [],
      "authorship_tag": "ABX9TyMopmo6kWF8v8pNXVRb6HBm",
      "include_colab_link": true
    },
    "kernelspec": {
      "name": "python3",
      "display_name": "Python 3"
    },
    "language_info": {
      "name": "python"
    }
  },
  "cells": [
    {
      "cell_type": "markdown",
      "metadata": {
        "id": "view-in-github",
        "colab_type": "text"
      },
      "source": [
        "<a href=\"https://colab.research.google.com/github/deejuu/OOP-58002/blob/main/Concepts_in_Python.ipynb\" target=\"_parent\"><img src=\"https://colab.research.google.com/assets/colab-badge.svg\" alt=\"Open In Colab\"/></a>"
      ]
    },
    {
      "cell_type": "markdown",
      "source": [
        "create a class"
      ],
      "metadata": {
        "id": "3dNtBfY1O59w"
      }
    },
    {
      "cell_type": "code",
      "execution_count": 1,
      "metadata": {
        "id": "84UGriInNLSw"
      },
      "outputs": [],
      "source": [
        "class car:\n",
        "  pass"
      ]
    },
    {
      "cell_type": "markdown",
      "source": [
        "create an object"
      ],
      "metadata": {
        "id": "3x3YGdHVPKOz"
      }
    },
    {
      "cell_type": "code",
      "source": [
        "class car:\n",
        "    def __init__(self,name,color):\n",
        "      self.name = name\n",
        "      self.color = color\n",
        "\n",
        "    def description(self):\n",
        "      return\"The\"+ self.name+\"has a color\"+self.color\n",
        "\n",
        "    def show(self):\n",
        "      print(\"The \"+self.name+\"has a color\"+self.color)\n",
        "\n",
        "car1 = car(\"Honda City \",\" red\")\n",
        "car1.show()"
      ],
      "metadata": {
        "colab": {
          "base_uri": "https://localhost:8080/"
        },
        "id": "YCZjxuOmPLxp",
        "outputId": "d0c68c10-00b2-4c41-9748-ffd72874e41f"
      },
      "execution_count": 2,
      "outputs": [
        {
          "output_type": "stream",
          "name": "stdout",
          "text": [
            "The Honda City has a color red\n"
          ]
        }
      ]
    },
    {
      "cell_type": "markdown",
      "source": [
        "object methods"
      ],
      "metadata": {
        "id": "ZPymVRVRP86H"
      }
    },
    {
      "cell_type": "code",
      "source": [
        "class person:\n",
        "  def __init__(self,name,age):\n",
        "    self.name = name\n",
        "    self.age = age\n",
        "  def myFunction(self):\n",
        "    print(\"Hello! My name is\",self.name)\n",
        "    print(\"I am\",self.age)\n",
        "\n",
        "p1= person(\"Deejong\",19)\n",
        "p1.myFunction()"
      ],
      "metadata": {
        "colab": {
          "base_uri": "https://localhost:8080/"
        },
        "id": "Y8VyCVAaQB18",
        "outputId": "42a32270-5673-49a2-99e8-ed4c3a6c5263"
      },
      "execution_count": 3,
      "outputs": [
        {
          "output_type": "stream",
          "name": "stdout",
          "text": [
            "Hello! My name is Deejong\n",
            "I am 19\n"
          ]
        }
      ]
    },
    {
      "cell_type": "markdown",
      "source": [
        "modifying an object"
      ],
      "metadata": {
        "id": "VQkIY_QOQkSw"
      }
    },
    {
      "cell_type": "code",
      "source": [
        "car1.name = \"Koenigsegg \"\n",
        "print(car1.name)\n",
        "\n",
        "car1.color = \" Orange\"\n",
        "print(car1.color)\n",
        "\n",
        "car1.show()"
      ],
      "metadata": {
        "colab": {
          "base_uri": "https://localhost:8080/"
        },
        "id": "0KvamdW1QnoT",
        "outputId": "6fc63bec-b3c6-40b4-ef44-8a6192f928bc"
      },
      "execution_count": 7,
      "outputs": [
        {
          "output_type": "stream",
          "name": "stdout",
          "text": [
            "Koenigsegg \n",
            " Orange\n",
            "The Koenigsegg has a color Orange\n"
          ]
        }
      ]
    },
    {
      "cell_type": "markdown",
      "source": [
        "deleting an object"
      ],
      "metadata": {
        "id": "FUO5jj7DQ_2G"
      }
    },
    {
      "cell_type": "code",
      "source": [
        "del car1.name\n",
        "print(car1.name)"
      ],
      "metadata": {
        "colab": {
          "base_uri": "https://localhost:8080/",
          "height": 185
        },
        "id": "NRL9vjkBRDJh",
        "outputId": "d49192bd-6432-42e5-de20-1e460d438867"
      },
      "execution_count": 13,
      "outputs": [
        {
          "output_type": "error",
          "ename": "AttributeError",
          "evalue": "ignored",
          "traceback": [
            "\u001b[0;31m---------------------------------------------------------------------------\u001b[0m",
            "\u001b[0;31mAttributeError\u001b[0m                            Traceback (most recent call last)",
            "\u001b[0;32m<ipython-input-13-dd4de929c03e>\u001b[0m in \u001b[0;36m<module>\u001b[0;34m()\u001b[0m\n\u001b[0;32m----> 1\u001b[0;31m \u001b[0;32mdel\u001b[0m \u001b[0mcar1\u001b[0m\u001b[0;34m.\u001b[0m\u001b[0mname\u001b[0m\u001b[0;34m\u001b[0m\u001b[0;34m\u001b[0m\u001b[0m\n\u001b[0m\u001b[1;32m      2\u001b[0m \u001b[0mprint\u001b[0m\u001b[0;34m(\u001b[0m\u001b[0mcar1\u001b[0m\u001b[0;34m.\u001b[0m\u001b[0mname\u001b[0m\u001b[0;34m)\u001b[0m\u001b[0;34m\u001b[0m\u001b[0;34m\u001b[0m\u001b[0m\n",
            "\u001b[0;31mAttributeError\u001b[0m: name"
          ]
        }
      ]
    }
  ]
}