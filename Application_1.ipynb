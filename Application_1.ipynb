{
  "nbformat": 4,
  "nbformat_minor": 0,
  "metadata": {
    "colab": {
      "name": "Application 1.ipynb",
      "provenance": [],
      "authorship_tag": "ABX9TyNhkPt3XQ+J4M9m7pe8PzIB",
      "include_colab_link": true
    },
    "kernelspec": {
      "name": "python3",
      "display_name": "Python 3"
    },
    "language_info": {
      "name": "python"
    }
  },
  "cells": [
    {
      "cell_type": "markdown",
      "metadata": {
        "id": "view-in-github",
        "colab_type": "text"
      },
      "source": [
        "<a href=\"https://colab.research.google.com/github/deejuu/OOP-58002/blob/main/Application_1.ipynb\" target=\"_parent\"><img src=\"https://colab.research.google.com/assets/colab-badge.svg\" alt=\"Open In Colab\"/></a>"
      ]
    },
    {
      "cell_type": "markdown",
      "source": [
        "Create a Python program that computes for the area of a square and a class name square with side as its attribute"
      ],
      "metadata": {
        "id": "rTud8m1qS22B"
      }
    },
    {
      "cell_type": "code",
      "execution_count": 1,
      "metadata": {
        "colab": {
          "base_uri": "https://localhost:8080/"
        },
        "id": "wShy9M_LS0Cz",
        "outputId": "75cef01b-5e68-41f9-8974-0fa4165a9e9e"
      },
      "outputs": [
        {
          "output_type": "stream",
          "name": "stdout",
          "text": [
            "The area of a square is  16\n",
            "The perimiter if a square is 16\n"
          ]
        }
      ],
      "source": [
        "class square:\n",
        "  def __init__(self,side):\n",
        "    self.side = side\n",
        "  \n",
        "  def area(self):\n",
        "    return self.side*self.side\n",
        "\n",
        "  def perimeter(self):\n",
        "    return 4*(self.side)\n",
        "  \n",
        "  def display(self):\n",
        "    print(\"The area of a square is \",self.area())\n",
        "    print(\"The perimiter if a square is\",self.perimeter())\n",
        "\n",
        "sq1 = square(4)\n",
        "sq1.display()"
      ]
    }
  ]
}