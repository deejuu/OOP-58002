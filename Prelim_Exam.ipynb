{
  "nbformat": 4,
  "nbformat_minor": 0,
  "metadata": {
    "colab": {
      "name": "Prelim Exam.ipynb",
      "provenance": [],
      "authorship_tag": "ABX9TyMl24r9EnMuXzliEuFn7qni",
      "include_colab_link": true
    },
    "kernelspec": {
      "name": "python3",
      "display_name": "Python 3"
    },
    "language_info": {
      "name": "python"
    }
  },
  "cells": [
    {
      "cell_type": "markdown",
      "metadata": {
        "id": "view-in-github",
        "colab_type": "text"
      },
      "source": [
        "<a href=\"https://colab.research.google.com/github/deejuu/OOP-58002/blob/main/Prelim_Exam.ipynb\" target=\"_parent\"><img src=\"https://colab.research.google.com/assets/colab-badge.svg\" alt=\"Open In Colab\"/></a>"
      ]
    },
    {
      "cell_type": "markdown",
      "source": [
        "Problem 2"
      ],
      "metadata": {
        "id": "5K_t31-6MLwI"
      }
    },
    {
      "cell_type": "code",
      "execution_count": 13,
      "metadata": {
        "colab": {
          "base_uri": "https://localhost:8080/"
        },
        "id": "2OVV_Q4CE2tV",
        "outputId": "f1fe8c56-ad3a-4312-9c52-5e3dd5202ddb"
      },
      "outputs": [
        {
          "output_type": "stream",
          "name": "stdout",
          "text": [
            "My name is Tolentino, Daniel Jethro L. \n",
            "Age: 19 \n",
            "Current school: Adamson University \n",
            "Student number: 202117984 \n",
            "Course taken: Computer Engineering\n"
          ]
        }
      ],
      "source": [
        "class Student:\n",
        "  def __init__(self, deej, number, age, school, course):\n",
        "    self.deej = deej\n",
        "    self.number = number\n",
        "    self.age = age\n",
        "    self.school = school\n",
        "    self.course = course\n",
        "\n",
        "  def deejong(self):\n",
        "    print(\"My name is \"+ self.deej, \"\\nAge: \"+self.age, \"\\nCurrent school: \"+self.school, \"\\nStudent number: \"+self.number, \"\\nCourse taken: \"+self.course)\n",
        "\n",
        "deej1 = Student(\"Tolentino, Daniel Jethro L.\", \"202117984\", \"19\", \"Adamson University\", \"Computer Engineering\")\n",
        "deej1.deejong()"
      ]
    }
  ]
}